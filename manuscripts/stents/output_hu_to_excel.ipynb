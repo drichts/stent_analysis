{
 "cells": [
  {
   "cell_type": "code",
   "execution_count": 1,
   "outputs": [],
   "source": [
    "# Define the directory (which computer you're on)\n",
    "\n",
    "# directory = r'C:\\Users\\drich - University of Victoria\\Research'\n",
    "directory = r'D:\\OneDrive - University of Victoria\\Research'\n"
   ],
   "metadata": {
    "collapsed": false,
    "pycharm": {
     "name": "#%%\n"
    }
   }
  },
  {
   "cell_type": "code",
   "execution_count": 4,
   "outputs": [],
   "source": [
    "# Load the diameter and width data and save to a csv\n",
    "\n",
    "import os\n",
    "import numpy as np\n",
    "import pandas as pd\n",
    "\n",
    "# Type of acquisition folder\n",
    "clin_dir = 'Clinical CT'\n",
    "pcd_dir = 'LDA Data'\n",
    "\n",
    "# Specific folder defining the day\n",
    "clin_folder = '22_09_20_CT_stents'\n",
    "pcd_folder = '22_09_07_CT_stents'\n",
    "\n",
    "append = '_initio_equal_shepp_logan'\n",
    "\n",
    "clin_path = os.path.join(directory, clin_dir, clin_folder, '10cm_phantom')\n",
    "pcd_path = os.path.join(directory, pcd_dir, pcd_folder)\n",
    "\n",
    "# Grab the PCD HU data\n",
    "red_pcd_mean = np.load(os.path.join(pcd_path, 'red_mid', f'HU_mean{append}.npy'))\n",
    "purple_pcd_mean = np.load(os.path.join(pcd_path, 'purple_mid', f'HU_mean{append}.npy'))\n",
    "pink_pcd_mean = np.load(os.path.join(pcd_path, 'pink_mid', f'HU_mean{append}.npy'))\n",
    "\n",
    "red_pcd_var = np.load(os.path.join(pcd_path, 'red_mid', f'HU_variance{append}.npy'))\n",
    "purple_pcd_var = np.load(os.path.join(pcd_path, 'purple_mid', f'HU_variance{append}.npy'))\n",
    "pink_pcd_var = np.load(os.path.join(pcd_path, 'pink_mid', f'HU_variance{append}.npy'))\n",
    "\n",
    "# Grab the clinical HU data\n",
    "red_clin_mean = np.load(os.path.join(clin_path, 'red', 'HU_mean.npy'))\n",
    "purple_clin_mean = np.load(os.path.join(clin_path, 'purple', 'HU_mean.npy'))\n",
    "pink_clin_mean = np.load(os.path.join(clin_path, 'pink', 'HU_mean.npy'))\n",
    "\n",
    "red_clin_var = np.load(os.path.join(clin_path, 'red', 'HU_variance.npy'))\n",
    "purple_clin_var = np.load(os.path.join(clin_path, 'purple', 'HU_variance.npy'))\n",
    "pink_clin_var = np.load(os.path.join(clin_path, 'pink', 'HU_variance.npy'))\n",
    "\n",
    "# Calculate the mean diameter and its std\n",
    "HU_np = np.zeros((6, 2))\n",
    "HU_np[0] = [np.mean(red_pcd_mean), np.sqrt(np.mean(red_pcd_var))]\n",
    "HU_np[1] = [np.mean(purple_pcd_mean), np.sqrt(np.mean(purple_pcd_var))]\n",
    "HU_np[2] = [np.mean(pink_pcd_mean), np.sqrt(np.mean(pink_pcd_var))]\n",
    "HU_np[3] = [np.mean(red_clin_mean), np.sqrt(np.mean(red_clin_var))]\n",
    "HU_np[4] = [np.mean(purple_clin_mean), np.sqrt(np.mean(purple_clin_var))]\n",
    "HU_np[5] = [np.mean(pink_clin_mean), np.sqrt(np.mean(pink_clin_var))]\n",
    "\n",
    "HU_np = np.array(HU_np, dtype='str')\n",
    "\n",
    "\n",
    "HU_dataframe = pd.DataFrame(data=HU_np,\n",
    "                              index=['Red PCD', 'Purple PCD', 'Pink PCD', 'Red Clinical', 'Purple Clinical',\n",
    "                                     'Pink Clinical'],\n",
    "                              columns=['Mean HU', 'Std (HU)'])\n",
    "\n",
    "HU_dataframe.to_csv(\n",
    "    fr'D:\\OneDrive - University of Victoria\\Files\\Grad School\\Manuscripts\\Stents\\Figures_manuscript\\HU{append}.csv')\n"
   ],
   "metadata": {
    "collapsed": false,
    "pycharm": {
     "name": "#%%\n"
    }
   }
  }
 ],
 "metadata": {
  "kernelspec": {
   "display_name": "Python 3",
   "language": "python",
   "name": "python3"
  },
  "language_info": {
   "codemirror_mode": {
    "name": "ipython",
    "version": 2
   },
   "file_extension": ".py",
   "mimetype": "text/x-python",
   "name": "python",
   "nbconvert_exporter": "python",
   "pygments_lexer": "ipython2",
   "version": "2.7.6"
  }
 },
 "nbformat": 4,
 "nbformat_minor": 0
}