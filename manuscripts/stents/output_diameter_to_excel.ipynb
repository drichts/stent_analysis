{
 "cells": [
  {
   "cell_type": "code",
   "execution_count": 1,
   "outputs": [],
   "source": [
    "# Define the directory (which computer you're on)\n",
    "\n",
    "# directory = r'C:\\Users\\drich - University of Victoria\\Research'\n",
    "directory = r'D:\\OneDrive - University of Victoria\\Research'"
   ],
   "metadata": {
    "collapsed": false,
    "pycharm": {
     "name": "#%%\n"
    }
   }
  },
  {
   "cell_type": "code",
   "execution_count": 3,
   "outputs": [],
   "source": [
    "# Load the diameter and width data and save to a csv\n",
    "\n",
    "import os\n",
    "import numpy as np\n",
    "import pandas as pd\n",
    "\n",
    "# Type of acquisition folder\n",
    "clin_dir = 'Clinical CT'\n",
    "pcd_dir = 'LDA Data'\n",
    "\n",
    "# Specific folder defining the day\n",
    "clin_folder = '22_09_20_CT_stents'\n",
    "pcd_folder = '22_09_07_CT_stents'\n",
    "\n",
    "append = '_initio_highres_shepp_logan'\n",
    "\n",
    "clin_path = os.path.join(directory, clin_dir, clin_folder, '10cm_phantom')\n",
    "pcd_path = os.path.join(directory, pcd_dir, pcd_folder)\n",
    "\n",
    "# Grab the PCD radii data\n",
    "red_pcd_diameter = np.load(os.path.join(pcd_path, 'red_mid', f'radii_dots{append}.npy'))\n",
    "purple_pcd_diameter = np.load(os.path.join(pcd_path, 'purple_mid', f'radii_dots{append}.npy'))\n",
    "pink_pcd_diameter = np.load(os.path.join(pcd_path, 'pink_mid', f'radii_dots{append}.npy'))\n",
    "\n",
    "# Grab the clinical radii data\n",
    "red_clin_diameter = np.load(os.path.join(clin_path, 'red', 'radii.npy'))\n",
    "purple_clin_diameter = np.load(os.path.join(clin_path, 'purple', 'radii.npy'))\n",
    "pink_clin_diameter = np.load(os.path.join(clin_path, 'pink', 'radii.npy'))\n",
    "\n",
    "# Grab the PCD width data\n",
    "red_pcd_width = np.load(os.path.join(pcd_path, 'red_mid', f'widths_dots{append}.npy'))\n",
    "purple_pcd_width = np.load(os.path.join(pcd_path, 'purple_mid', f'widths_dots{append}.npy'))\n",
    "pink_pcd_width = np.load(os.path.join(pcd_path, 'pink_mid', f'widths_dots{append}.npy'))\n",
    "\n",
    "# Grab the clinical width data\n",
    "red_clin_width = np.load(os.path.join(clin_path, 'red', 'widths.npy'))\n",
    "purple_clin_width = np.load(os.path.join(clin_path, 'purple', 'widths.npy'))\n",
    "pink_clin_width = np.load(os.path.join(clin_path, 'pink', 'widths.npy'))\n",
    "\n",
    "# Calculate the mean diameter and its std\n",
    "diam_np = np.zeros((6, 2))\n",
    "diam_np[0] = [np.mean(red_pcd_diameter)*2, np.std(red_pcd_diameter)*2]\n",
    "diam_np[1] = [np.mean(purple_pcd_diameter)*2, np.std(purple_pcd_diameter)*2]\n",
    "diam_np[2] = [np.mean(pink_pcd_diameter)*2, np.std(pink_pcd_diameter)*2]\n",
    "diam_np[3] = [np.mean(red_clin_diameter)*2, np.std(red_clin_diameter)*2]\n",
    "diam_np[4] = [np.mean(purple_clin_diameter)*2, np.std(purple_clin_diameter)*2]\n",
    "diam_np[5] = [np.mean(pink_clin_diameter)*2, np.std(pink_clin_diameter)*2]\n",
    "\n",
    "# Calculate the mean width and its std\n",
    "width_np = np.zeros((6, 2))\n",
    "width_np[0] = [np.mean(red_pcd_width), np.std(red_pcd_width)]\n",
    "width_np[1] = [np.mean(purple_pcd_width), np.std(purple_pcd_width)]\n",
    "width_np[2] = [np.mean(pink_pcd_width), np.std(pink_pcd_width)]\n",
    "width_np[3] = [np.mean(red_clin_width), np.std(red_clin_width)]\n",
    "width_np[4] = [np.mean(purple_clin_width), np.std(purple_clin_width)]\n",
    "width_np[5] = [np.mean(pink_clin_width), np.std(pink_clin_width)]\n",
    "\n",
    "diam_np = np.array(diam_np, dtype='str')\n",
    "width_np = np.array(width_np, dtype='str')\n",
    "\n",
    "diam_dataframe = pd.DataFrame(data=diam_np, index=['Red PCD', 'Purple PCD', 'Pink PCD', 'Red Clinical', 'Purple Clinical', 'Pink Clinical'],\n",
    "                              columns=['Mean diameter (mm)', 'Std (mm)'])\n",
    "width_dataframe = pd.DataFrame(data=width_np, index=['Red PCD', 'Purple PCD', 'Pink PCD', 'Red Clinical', 'Purple Clinical', 'Pink Clinical'],\n",
    "                               columns=['Mean width (mm)', 'Std (mm)'])\n",
    "\n",
    "diam_dataframe.to_csv(fr'D:\\OneDrive - University of Victoria\\Files\\Grad School\\Manuscripts\\Stents\\Figures_manuscript\\diameters{append}.csv')\n",
    "width_dataframe.to_csv(fr'D:\\OneDrive - University of Victoria\\Files\\Grad School\\Manuscripts\\Stents\\Figures_manuscript\\widths{append}.csv')\n"
   ],
   "metadata": {
    "collapsed": false,
    "pycharm": {
     "name": "#%%\n"
    }
   }
  }
 ],
 "metadata": {
  "kernelspec": {
   "display_name": "Python 3",
   "language": "python",
   "name": "python3"
  },
  "language_info": {
   "codemirror_mode": {
    "name": "ipython",
    "version": 2
   },
   "file_extension": ".py",
   "mimetype": "text/x-python",
   "name": "python",
   "nbconvert_exporter": "python",
   "pygments_lexer": "ipython2",
   "version": "2.7.6"
  }
 },
 "nbformat": 4,
 "nbformat_minor": 0
}